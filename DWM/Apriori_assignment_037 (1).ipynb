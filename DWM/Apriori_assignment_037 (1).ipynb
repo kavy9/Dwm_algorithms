{
  "nbformat": 4,
  "nbformat_minor": 0,
  "metadata": {
    "colab": {
      "name": "Apriori_assignment_037.ipynb",
      "provenance": [],
      "toc_visible": true
    },
    "kernelspec": {
      "name": "python3",
      "display_name": "Python 3"
    },
    "language_info": {
      "name": "python"
    }
  },
  "cells": [
    {
      "cell_type": "code",
      "metadata": {
        "id": "y3GlHi3_nC_S"
      },
      "source": [
        "!pip3 install apyori"
      ],
      "execution_count": null,
      "outputs": []
    },
    {
      "cell_type": "code",
      "metadata": {
        "id": "TtINz5ArmL9G"
      },
      "source": [
        "import numpy as np\n",
        "import pandas as pd\n",
        "from apyori import apriori"
      ],
      "execution_count": null,
      "outputs": []
    },
    {
      "cell_type": "code",
      "metadata": {
        "id": "8GKXkj8ZmVRD"
      },
      "source": [
        "dataset= pd.read_csv(\"dataset_apriori.csv\")"
      ],
      "execution_count": null,
      "outputs": []
    },
    {
      "cell_type": "code",
      "metadata": {
        "colab": {
          "base_uri": "https://localhost:8080/",
          "height": 195
        },
        "id": "h2qeCI0ZoHB0",
        "outputId": "06de5099-348e-4fe4-96d8-ee2df599e9eb"
      },
      "source": [
        "dataset.head()"
      ],
      "execution_count": null,
      "outputs": [
        {
          "output_type": "execute_result",
          "data": {
            "text/html": [
              "<div>\n",
              "<style scoped>\n",
              "    .dataframe tbody tr th:only-of-type {\n",
              "        vertical-align: middle;\n",
              "    }\n",
              "\n",
              "    .dataframe tbody tr th {\n",
              "        vertical-align: top;\n",
              "    }\n",
              "\n",
              "    .dataframe thead th {\n",
              "        text-align: right;\n",
              "    }\n",
              "</style>\n",
              "<table border=\"1\" class=\"dataframe\">\n",
              "  <thead>\n",
              "    <tr style=\"text-align: right;\">\n",
              "      <th></th>\n",
              "      <th>tid</th>\n",
              "      <th>items</th>\n",
              "    </tr>\n",
              "  </thead>\n",
              "  <tbody>\n",
              "    <tr>\n",
              "      <th>0</th>\n",
              "      <td>1</td>\n",
              "      <td>Handphone,Laptop</td>\n",
              "    </tr>\n",
              "    <tr>\n",
              "      <th>1</th>\n",
              "      <td>2</td>\n",
              "      <td>Handphone,Charger,Laptop</td>\n",
              "    </tr>\n",
              "    <tr>\n",
              "      <th>2</th>\n",
              "      <td>3</td>\n",
              "      <td>Powerbank,Laptop,Charger,Handphone</td>\n",
              "    </tr>\n",
              "    <tr>\n",
              "      <th>3</th>\n",
              "      <td>4</td>\n",
              "      <td>Tablet,Laptop,Handphone</td>\n",
              "    </tr>\n",
              "    <tr>\n",
              "      <th>4</th>\n",
              "      <td>5</td>\n",
              "      <td>Handphone,Charger,Tablet</td>\n",
              "    </tr>\n",
              "  </tbody>\n",
              "</table>\n",
              "</div>"
            ],
            "text/plain": [
              "   tid                               items\n",
              "0    1                    Handphone,Laptop\n",
              "1    2            Handphone,Charger,Laptop\n",
              "2    3  Powerbank,Laptop,Charger,Handphone\n",
              "3    4             Tablet,Laptop,Handphone\n",
              "4    5            Handphone,Charger,Tablet"
            ]
          },
          "metadata": {
            "tags": []
          },
          "execution_count": 13
        }
      ]
    },
    {
      "cell_type": "code",
      "metadata": {
        "id": "T0VVrwZmshxZ"
      },
      "source": [
        "cart=dataset['items']\n"
      ],
      "execution_count": null,
      "outputs": []
    },
    {
      "cell_type": "code",
      "metadata": {
        "colab": {
          "base_uri": "https://localhost:8080/"
        },
        "id": "JsqyW9Irw9MT",
        "outputId": "3e0bc68d-e5ac-4807-ed5e-de123af75619"
      },
      "source": [
        "cart"
      ],
      "execution_count": null,
      "outputs": [
        {
          "output_type": "execute_result",
          "data": {
            "text/plain": [
              "0                        [Handphone, Laptop]\n",
              "1               [Handphone, Charger, Laptop]\n",
              "2    [Powerbank, Laptop, Charger, Handphone]\n",
              "3                [Tablet, Laptop, Handphone]\n",
              "4               [Handphone, Charger, Tablet]\n",
              "5                        [Tablet, Powerbank]\n",
              "6       [Handphone, Laptop, Tablet, Charger]\n",
              "7                       [Charger, Handphone]\n",
              "8                     [Handphone, Powerbank]\n",
              "9               [Laptop, Charger, Powerbank]\n",
              "Name: items, dtype: object"
            ]
          },
          "metadata": {
            "tags": []
          },
          "execution_count": 31
        }
      ]
    },
    {
      "cell_type": "code",
      "metadata": {
        "colab": {
          "base_uri": "https://localhost:8080/"
        },
        "id": "lbQKoxbjxDzY",
        "outputId": "87b7be2e-cea8-4153-f242-f29e368a7779"
      },
      "source": [
        "cart[0]"
      ],
      "execution_count": null,
      "outputs": [
        {
          "output_type": "execute_result",
          "data": {
            "text/plain": [
              "['Handphone', 'Laptop']"
            ]
          },
          "metadata": {
            "tags": []
          },
          "execution_count": 34
        }
      ]
    },
    {
      "cell_type": "code",
      "metadata": {
        "id": "Fwl9s4ZQ0rBA"
      },
      "source": [
        "for i in range(len(cart)):\n",
        "  cart[i]=cart[i].split(',')"
      ],
      "execution_count": null,
      "outputs": []
    },
    {
      "cell_type": "code",
      "metadata": {
        "colab": {
          "base_uri": "https://localhost:8080/"
        },
        "id": "0hjIYK7j0V8Q",
        "outputId": "e292330e-410b-4564-ad7f-eb4a21050e0f"
      },
      "source": [
        "cart"
      ],
      "execution_count": null,
      "outputs": [
        {
          "output_type": "execute_result",
          "data": {
            "text/plain": [
              "0                        [Handphone, Laptop]\n",
              "1               [Handphone, Charger, Laptop]\n",
              "2    [Powerbank, Laptop, Charger, Handphone]\n",
              "3                [Tablet, Laptop, Handphone]\n",
              "4               [Handphone, Charger, Tablet]\n",
              "5                        [Tablet, Powerbank]\n",
              "6       [Handphone, Laptop, Tablet, Charger]\n",
              "7                       [Charger, Handphone]\n",
              "8                     [Handphone, Powerbank]\n",
              "9               [Laptop, Charger, Powerbank]\n",
              "Name: items, dtype: object"
            ]
          },
          "metadata": {
            "tags": []
          },
          "execution_count": 30
        }
      ]
    },
    {
      "cell_type": "code",
      "metadata": {
        "id": "Qpfk7BD9xKhQ"
      },
      "source": [
        "records=[]\n",
        "for i in cart:\n",
        "  temp=[]\n",
        "  for item in i:\n",
        "    temp.append(str(item))\n",
        "  records.append(temp)  \n",
        "\n"
      ],
      "execution_count": null,
      "outputs": []
    },
    {
      "cell_type": "code",
      "metadata": {
        "colab": {
          "base_uri": "https://localhost:8080/"
        },
        "id": "i25z18NJxa2R",
        "outputId": "99df5391-134b-4923-ab4d-fb0f8256d093"
      },
      "source": [
        "records"
      ],
      "execution_count": null,
      "outputs": [
        {
          "output_type": "execute_result",
          "data": {
            "text/plain": [
              "[['Handphone', 'Laptop'],\n",
              " ['Handphone', 'Charger', 'Laptop'],\n",
              " ['Powerbank', 'Laptop', 'Charger', 'Handphone'],\n",
              " ['Tablet', 'Laptop', 'Handphone'],\n",
              " ['Handphone', 'Charger', 'Tablet'],\n",
              " ['Tablet', 'Powerbank'],\n",
              " ['Handphone', 'Laptop', 'Tablet', 'Charger'],\n",
              " ['Charger', 'Handphone'],\n",
              " ['Handphone', 'Powerbank'],\n",
              " ['Laptop', 'Charger', 'Powerbank']]"
            ]
          },
          "metadata": {
            "tags": []
          },
          "execution_count": 46
        }
      ]
    },
    {
      "cell_type": "code",
      "metadata": {
        "id": "73eWujosyNJA"
      },
      "source": [
        "association_rules = apriori(records, min_support=0.0001, min_confidence=0.01, min_lift=1.1, min_length=1)\n",
        "association_results = list(association_rules)"
      ],
      "execution_count": null,
      "outputs": []
    },
    {
      "cell_type": "code",
      "metadata": {
        "colab": {
          "base_uri": "https://localhost:8080/"
        },
        "id": "CaHSmuesyRvA",
        "outputId": "efecbd26-1de8-4692-cdc7-4fa17500e5ee"
      },
      "source": [
        "association_results"
      ],
      "execution_count": null,
      "outputs": [
        {
          "output_type": "execute_result",
          "data": {
            "text/plain": [
              "[RelationRecord(items=frozenset({'Laptop', 'Charger'}), support=0.4, ordered_statistics=[OrderedStatistic(items_base=frozenset({'Charger'}), items_add=frozenset({'Laptop'}), confidence=0.6666666666666667, lift=1.1111111111111114), OrderedStatistic(items_base=frozenset({'Laptop'}), items_add=frozenset({'Charger'}), confidence=0.6666666666666667, lift=1.1111111111111114)]),\n",
              " RelationRecord(items=frozenset({'Handphone', 'Charger', 'Tablet'}), support=0.2, ordered_statistics=[OrderedStatistic(items_base=frozenset({'Charger'}), items_add=frozenset({'Handphone', 'Tablet'}), confidence=0.33333333333333337, lift=1.1111111111111114), OrderedStatistic(items_base=frozenset({'Handphone'}), items_add=frozenset({'Charger', 'Tablet'}), confidence=0.25, lift=1.25), OrderedStatistic(items_base=frozenset({'Charger', 'Tablet'}), items_add=frozenset({'Handphone'}), confidence=1.0, lift=1.25), OrderedStatistic(items_base=frozenset({'Handphone', 'Tablet'}), items_add=frozenset({'Charger'}), confidence=0.6666666666666667, lift=1.1111111111111114)]),\n",
              " RelationRecord(items=frozenset({'Laptop', 'Charger', 'Powerbank'}), support=0.2, ordered_statistics=[OrderedStatistic(items_base=frozenset({'Charger'}), items_add=frozenset({'Laptop', 'Powerbank'}), confidence=0.33333333333333337, lift=1.6666666666666667), OrderedStatistic(items_base=frozenset({'Laptop'}), items_add=frozenset({'Charger', 'Powerbank'}), confidence=0.33333333333333337, lift=1.6666666666666667), OrderedStatistic(items_base=frozenset({'Powerbank'}), items_add=frozenset({'Laptop', 'Charger'}), confidence=0.5, lift=1.25), OrderedStatistic(items_base=frozenset({'Laptop', 'Charger'}), items_add=frozenset({'Powerbank'}), confidence=0.5, lift=1.25), OrderedStatistic(items_base=frozenset({'Charger', 'Powerbank'}), items_add=frozenset({'Laptop'}), confidence=1.0, lift=1.6666666666666667), OrderedStatistic(items_base=frozenset({'Laptop', 'Powerbank'}), items_add=frozenset({'Charger'}), confidence=1.0, lift=1.6666666666666667)]),\n",
              " RelationRecord(items=frozenset({'Handphone', 'Tablet', 'Laptop'}), support=0.2, ordered_statistics=[OrderedStatistic(items_base=frozenset({'Handphone'}), items_add=frozenset({'Laptop', 'Tablet'}), confidence=0.25, lift=1.25), OrderedStatistic(items_base=frozenset({'Laptop'}), items_add=frozenset({'Handphone', 'Tablet'}), confidence=0.33333333333333337, lift=1.1111111111111114), OrderedStatistic(items_base=frozenset({'Handphone', 'Tablet'}), items_add=frozenset({'Laptop'}), confidence=0.6666666666666667, lift=1.1111111111111114), OrderedStatistic(items_base=frozenset({'Laptop', 'Tablet'}), items_add=frozenset({'Handphone'}), confidence=1.0, lift=1.25)]),\n",
              " RelationRecord(items=frozenset({'Handphone', 'Charger', 'Powerbank', 'Laptop'}), support=0.1, ordered_statistics=[OrderedStatistic(items_base=frozenset({'Charger'}), items_add=frozenset({'Handphone', 'Powerbank', 'Laptop'}), confidence=0.16666666666666669, lift=1.6666666666666667), OrderedStatistic(items_base=frozenset({'Laptop'}), items_add=frozenset({'Handphone', 'Charger', 'Powerbank'}), confidence=0.16666666666666669, lift=1.6666666666666667), OrderedStatistic(items_base=frozenset({'Laptop', 'Charger'}), items_add=frozenset({'Handphone', 'Powerbank'}), confidence=0.25, lift=1.25), OrderedStatistic(items_base=frozenset({'Handphone', 'Powerbank'}), items_add=frozenset({'Laptop', 'Charger'}), confidence=0.5, lift=1.25), OrderedStatistic(items_base=frozenset({'Handphone', 'Charger', 'Powerbank'}), items_add=frozenset({'Laptop'}), confidence=1.0, lift=1.6666666666666667), OrderedStatistic(items_base=frozenset({'Handphone', 'Powerbank', 'Laptop'}), items_add=frozenset({'Charger'}), confidence=1.0, lift=1.6666666666666667)]),\n",
              " RelationRecord(items=frozenset({'Handphone', 'Charger', 'Tablet', 'Laptop'}), support=0.1, ordered_statistics=[OrderedStatistic(items_base=frozenset({'Handphone'}), items_add=frozenset({'Laptop', 'Charger', 'Tablet'}), confidence=0.125, lift=1.25), OrderedStatistic(items_base=frozenset({'Laptop', 'Charger', 'Tablet'}), items_add=frozenset({'Handphone'}), confidence=1.0, lift=1.25)])]"
            ]
          },
          "metadata": {
            "tags": []
          },
          "execution_count": 65
        }
      ]
    },
    {
      "cell_type": "code",
      "metadata": {
        "colab": {
          "base_uri": "https://localhost:8080/"
        },
        "id": "0tzsBTjVB5SJ",
        "outputId": "132ee0a9-6f0a-4b03-aad8-26639c799cfc"
      },
      "source": [
        "for item in association_results:\n",
        "    pair = item[0] \n",
        "    items = [x for x in pair]\n",
        "    print(\"Rule: \" + items[0] + \" -> \" + items[1])\n",
        "    print(\"Support: \" + str(item[1]))\n",
        "    print(\"Confidence: \" + str(item[2][0][2]))\n",
        "    print(\"Lift: \" + str(item[2][0][3]))\n",
        "    print(\"=====================================\")"
      ],
      "execution_count": null,
      "outputs": [
        {
          "output_type": "stream",
          "text": [
            "Rule: Laptop -> Charger\n",
            "Support: 0.4\n",
            "Confidence: 0.6666666666666667\n",
            "Lift: 1.1111111111111114\n",
            "=====================================\n",
            "Rule: Handphone -> Charger\n",
            "Support: 0.2\n",
            "Confidence: 0.33333333333333337\n",
            "Lift: 1.1111111111111114\n",
            "=====================================\n",
            "Rule: Laptop -> Charger\n",
            "Support: 0.2\n",
            "Confidence: 0.33333333333333337\n",
            "Lift: 1.6666666666666667\n",
            "=====================================\n",
            "Rule: Handphone -> Tablet\n",
            "Support: 0.2\n",
            "Confidence: 0.25\n",
            "Lift: 1.25\n",
            "=====================================\n",
            "Rule: Handphone -> Charger\n",
            "Support: 0.1\n",
            "Confidence: 0.16666666666666669\n",
            "Lift: 1.6666666666666667\n",
            "=====================================\n",
            "Rule: Handphone -> Charger\n",
            "Support: 0.1\n",
            "Confidence: 0.125\n",
            "Lift: 1.25\n",
            "=====================================\n"
          ],
          "name": "stdout"
        }
      ]
    }
  ]
}